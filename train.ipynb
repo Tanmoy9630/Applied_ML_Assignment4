{
 "cells": [
  {
   "cell_type": "markdown",
   "metadata": {},
   "source": [
    "## Assignment-1:train.ipynb\n",
    "### **Tanmoy Paul**\n",
    "### *Roll no- MDS202246*"
   ]
  },
  {
   "cell_type": "code",
   "execution_count": 1,
   "metadata": {},
   "outputs": [],
   "source": [
    "import numpy as np ## importing the library\n",
    "import pandas as pd\n",
    "import matplotlib.pyplot as plt\n",
    "import warnings\n",
    "warnings.filterwarnings(\"ignore\")"
   ]
  },
  {
   "cell_type": "code",
   "execution_count": 2,
   "metadata": {},
   "outputs": [],
   "source": [
    "## !pip install mlflow"
   ]
  },
  {
   "cell_type": "code",
   "execution_count": 3,
   "metadata": {},
   "outputs": [],
   "source": [
    "# ML flow imports\n",
    "import mlflow\n",
    "import mlflow.sklearn\n",
    "from urllib.parse import urlparse\n",
    "from mlflow.tracking import MlflowClient\n",
    "\n",
    "# Set the MLflow tracking URI\n",
    "mlflow.set_tracking_uri(\"http://127.0.0.1:5000\")"
   ]
  },
  {
   "cell_type": "code",
   "execution_count": 4,
   "metadata": {},
   "outputs": [],
   "source": [
    "## Reading the train and test data\n",
    "train_data=pd.read_csv('train.csv') \n",
    "test_data=pd.read_csv('test.csv')"
   ]
  },
  {
   "cell_type": "code",
   "execution_count": 5,
   "metadata": {},
   "outputs": [],
   "source": [
    "## Getting the predictor features and labels from the train and test set\n",
    "X_train_sent,y_train=train_data['Processed_text'],train_data['spam']\n",
    "X_test_sent,y_test=test_data['Processed_text'],test_data['spam']"
   ]
  },
  {
   "cell_type": "markdown",
   "metadata": {},
   "source": [
    "### Feature Engineering"
   ]
  },
  {
   "cell_type": "markdown",
   "metadata": {},
   "source": [
    "#### Here we will be using CountVectorizer. It is used to transform a given text into a vector on the basis of the frequency (count) of each word that occurs in the entire text. This is helpful when we have multiple such texts, and we wish to convert each word in each text into vectors"
   ]
  },
  {
   "cell_type": "code",
   "execution_count": 6,
   "metadata": {},
   "outputs": [
    {
     "data": {
      "text/html": [
       "<style>#sk-container-id-1 {color: black;}#sk-container-id-1 pre{padding: 0;}#sk-container-id-1 div.sk-toggleable {background-color: white;}#sk-container-id-1 label.sk-toggleable__label {cursor: pointer;display: block;width: 100%;margin-bottom: 0;padding: 0.3em;box-sizing: border-box;text-align: center;}#sk-container-id-1 label.sk-toggleable__label-arrow:before {content: \"▸\";float: left;margin-right: 0.25em;color: #696969;}#sk-container-id-1 label.sk-toggleable__label-arrow:hover:before {color: black;}#sk-container-id-1 div.sk-estimator:hover label.sk-toggleable__label-arrow:before {color: black;}#sk-container-id-1 div.sk-toggleable__content {max-height: 0;max-width: 0;overflow: hidden;text-align: left;background-color: #f0f8ff;}#sk-container-id-1 div.sk-toggleable__content pre {margin: 0.2em;color: black;border-radius: 0.25em;background-color: #f0f8ff;}#sk-container-id-1 input.sk-toggleable__control:checked~div.sk-toggleable__content {max-height: 200px;max-width: 100%;overflow: auto;}#sk-container-id-1 input.sk-toggleable__control:checked~label.sk-toggleable__label-arrow:before {content: \"▾\";}#sk-container-id-1 div.sk-estimator input.sk-toggleable__control:checked~label.sk-toggleable__label {background-color: #d4ebff;}#sk-container-id-1 div.sk-label input.sk-toggleable__control:checked~label.sk-toggleable__label {background-color: #d4ebff;}#sk-container-id-1 input.sk-hidden--visually {border: 0;clip: rect(1px 1px 1px 1px);clip: rect(1px, 1px, 1px, 1px);height: 1px;margin: -1px;overflow: hidden;padding: 0;position: absolute;width: 1px;}#sk-container-id-1 div.sk-estimator {font-family: monospace;background-color: #f0f8ff;border: 1px dotted black;border-radius: 0.25em;box-sizing: border-box;margin-bottom: 0.5em;}#sk-container-id-1 div.sk-estimator:hover {background-color: #d4ebff;}#sk-container-id-1 div.sk-parallel-item::after {content: \"\";width: 100%;border-bottom: 1px solid gray;flex-grow: 1;}#sk-container-id-1 div.sk-label:hover label.sk-toggleable__label {background-color: #d4ebff;}#sk-container-id-1 div.sk-serial::before {content: \"\";position: absolute;border-left: 1px solid gray;box-sizing: border-box;top: 0;bottom: 0;left: 50%;z-index: 0;}#sk-container-id-1 div.sk-serial {display: flex;flex-direction: column;align-items: center;background-color: white;padding-right: 0.2em;padding-left: 0.2em;position: relative;}#sk-container-id-1 div.sk-item {position: relative;z-index: 1;}#sk-container-id-1 div.sk-parallel {display: flex;align-items: stretch;justify-content: center;background-color: white;position: relative;}#sk-container-id-1 div.sk-item::before, #sk-container-id-1 div.sk-parallel-item::before {content: \"\";position: absolute;border-left: 1px solid gray;box-sizing: border-box;top: 0;bottom: 0;left: 50%;z-index: -1;}#sk-container-id-1 div.sk-parallel-item {display: flex;flex-direction: column;z-index: 1;position: relative;background-color: white;}#sk-container-id-1 div.sk-parallel-item:first-child::after {align-self: flex-end;width: 50%;}#sk-container-id-1 div.sk-parallel-item:last-child::after {align-self: flex-start;width: 50%;}#sk-container-id-1 div.sk-parallel-item:only-child::after {width: 0;}#sk-container-id-1 div.sk-dashed-wrapped {border: 1px dashed gray;margin: 0 0.4em 0.5em 0.4em;box-sizing: border-box;padding-bottom: 0.4em;background-color: white;}#sk-container-id-1 div.sk-label label {font-family: monospace;font-weight: bold;display: inline-block;line-height: 1.2em;}#sk-container-id-1 div.sk-label-container {text-align: center;}#sk-container-id-1 div.sk-container {/* jupyter's `normalize.less` sets `[hidden] { display: none; }` but bootstrap.min.css set `[hidden] { display: none !important; }` so we also need the `!important` here to be able to override the default hidden behavior on the sphinx rendered scikit-learn.org. See: https://github.com/scikit-learn/scikit-learn/issues/21755 */display: inline-block !important;position: relative;}#sk-container-id-1 div.sk-text-repr-fallback {display: none;}</style><div id=\"sk-container-id-1\" class=\"sk-top-container\"><div class=\"sk-text-repr-fallback\"><pre>CountVectorizer()</pre><b>In a Jupyter environment, please rerun this cell to show the HTML representation or trust the notebook. <br />On GitHub, the HTML representation is unable to render, please try loading this page with nbviewer.org.</b></div><div class=\"sk-container\" hidden><div class=\"sk-item\"><div class=\"sk-estimator sk-toggleable\"><input class=\"sk-toggleable__control sk-hidden--visually\" id=\"sk-estimator-id-1\" type=\"checkbox\" checked><label for=\"sk-estimator-id-1\" class=\"sk-toggleable__label sk-toggleable__label-arrow\">CountVectorizer</label><div class=\"sk-toggleable__content\"><pre>CountVectorizer()</pre></div></div></div></div></div>"
      ],
      "text/plain": [
       "CountVectorizer()"
      ]
     },
     "execution_count": 6,
     "metadata": {},
     "output_type": "execute_result"
    }
   ],
   "source": [
    "from sklearn.feature_extraction.text import CountVectorizer\n",
    "vectorizer = CountVectorizer()\n",
    "vectorizer.fit(X_train_sent)"
   ]
  },
  {
   "cell_type": "code",
   "execution_count": 7,
   "metadata": {},
   "outputs": [],
   "source": [
    "X_train=vectorizer.transform(X_train_sent) ## vectorizing train set\n",
    "X_test=vectorizer.transform(X_test_sent) ## vectorizing test set"
   ]
  },
  {
   "cell_type": "code",
   "execution_count": 8,
   "metadata": {},
   "outputs": [
    {
     "data": {
      "text/plain": [
       "(4556, 23147)"
      ]
     },
     "execution_count": 8,
     "metadata": {},
     "output_type": "execute_result"
    }
   ],
   "source": [
    "X_train.shape"
   ]
  },
  {
   "cell_type": "markdown",
   "metadata": {},
   "source": [
    "### Here we are balancing the Train set using \"Over Sampling Method\" for better training"
   ]
  },
  {
   "cell_type": "code",
   "execution_count": 9,
   "metadata": {},
   "outputs": [
    {
     "data": {
      "text/plain": [
       "0    3462\n",
       "1    3462\n",
       "Name: spam, dtype: int64"
      ]
     },
     "execution_count": 9,
     "metadata": {},
     "output_type": "execute_result"
    }
   ],
   "source": [
    "from imblearn.over_sampling import SMOTE\n",
    "smote=SMOTE(sampling_strategy=\"minority\")\n",
    "X_train,y_train=smote.fit_resample(X_train,y_train)\n",
    "y_train.value_counts()"
   ]
  },
  {
   "cell_type": "code",
   "execution_count": 10,
   "metadata": {},
   "outputs": [
    {
     "data": {
      "text/plain": [
       "<Axes: xlabel='spam', ylabel='count'>"
      ]
     },
     "execution_count": 10,
     "metadata": {},
     "output_type": "execute_result"
    },
    {
     "data": {
      "image/png": "[encoded data removed]",
      "text/plain": [
       "<Figure size 640x480 with 1 Axes>"
      ]
     },
     "metadata": {},
     "output_type": "display_data"
    }
   ],
   "source": [
    "import seaborn as sns\n",
    "sns.countplot(x=y_train)"
   ]
  },
  {
   "cell_type": "markdown",
   "metadata": {},
   "source": [
    "### Now the Train set is balanced"
   ]
  },
  {
   "cell_type": "code",
   "execution_count": 11,
   "metadata": {},
   "outputs": [],
   "source": [
    "from sklearn.metrics import classification_report, f1_score, accuracy_score, confusion_matrix\n",
    "from sklearn.pipeline import Pipeline\n",
    "from sklearn.model_selection import GridSearchCV\n",
    "from sklearn.metrics import average_precision_score, precision_recall_curve, auc\n",
    "from sklearn.model_selection import StratifiedKFold, cross_val_score\n",
    "from sklearn.tree import DecisionTreeClassifier \n",
    "from sklearn.model_selection import learning_curve\n",
    "from sklearn.model_selection import cross_val_predict\n",
    "from sklearn.metrics import confusion_matrix"
   ]
  },
  {
   "cell_type": "markdown",
   "metadata": {},
   "source": [
    "### Model 1: Logistic Regression"
   ]
  },
  {
   "cell_type": "code",
   "execution_count": 12,
   "metadata": {},
   "outputs": [],
   "source": [
    "from sklearn.linear_model import LogisticRegression\n",
    "logreg=LogisticRegression() ## Logistic Regression Model"
   ]
  },
  {
   "cell_type": "markdown",
   "metadata": {},
   "source": [
    "#### GridSearchCV to find the Best Hyperparameter"
   ]
  },
  {
   "cell_type": "code",
   "execution_count": 13,
   "metadata": {},
   "outputs": [],
   "source": [
    "params = {\n",
    "    'penalty':['l2'] ,\n",
    "    'C': [0.001,0.005,0.01,0.1,1], ## default is 1\n",
    "}\n",
    "\n",
    "grid = GridSearchCV(\n",
    "    logreg,  # model\n",
    "    params,  # parameters to tune via cross validation\n",
    "    refit=True,  # fit using all available data at the end, on the best found param combination\n",
    "    n_jobs=-1,  # number of cores to use for parallelization; -1 for \"all cores\"\n",
    "    scoring='accuracy',  # score to optimized\n",
    "    cv=StratifiedKFold(n_splits=5),  # type of cross validation to use\n",
    ")"
   ]
  },
  {
   "cell_type": "code",
   "execution_count": 14,
   "metadata": {},
   "outputs": [],
   "source": [
    "logreg_detector = grid.fit(X_train, y_train)"
   ]
  },
  {
   "cell_type": "markdown",
   "metadata": {},
   "source": [
    "#### Building and Tracking Model\n",
    "**Log all the parameters and metric into MLflow**"
   ]
  },
  {
   "cell_type": "code",
   "execution_count": 15,
   "metadata": {},
   "outputs": [],
   "source": [
    "gscv_mean_acc = logreg_detector.cv_results_['mean_test_score']\n",
    "gscv_std_acc = logreg_detector.cv_results_['std_test_score']\n",
    "gscv_params = logreg_detector.cv_results_['params']"
   ]
  },
  {
   "cell_type": "code",
   "execution_count": 16,
   "metadata": {},
   "outputs": [],
   "source": [
    "\n",
    "for i in range(len(gscv_params)):\n",
    "    run_mean_acc = gscv_mean_acc[i]\n",
    "    run_std_acc = gscv_std_acc[i]\n",
    "    run_params = gscv_params[i]\n",
    "\n",
    "    with mlflow.start_run():\n",
    "        # Extract parameters for the current run\n",
    "        params = {}\n",
    "        for key, value in run_params.items():\n",
    "            if key.startswith(\"classifier__\"):\n",
    "                key = key[len(\"classifier__\"):]\n",
    "            params[key] = value\n",
    "\n",
    "        # Fit Logistic Regression model with the current parameters\n",
    "        logreg = LogisticRegression(**params).fit(X_train, y_train)\n",
    "        \n",
    "        # Log parameters\n",
    "        for param, value in params.items():\n",
    "            mlflow.log_param(param, value)\n",
    "            \n",
    "        # Log metrics\n",
    "        mlflow.log_metric(\"Accuracy-Mean\", run_mean_acc)\n",
    "        mlflow.log_metric(\"Accuracy-StD\", run_std_acc)\n",
    "        \n",
    "        # Calculate precision-recall curve metrics\n",
    "        y_score = logreg.predict_proba(X_test)[:, 1]\n",
    "        precision, recall, thresholds = precision_recall_curve(y_true=y_test,\n",
    "                                                               probas_pred=y_score)\n",
    "        auc_precision_recall = auc(recall, precision)\n",
    "        mlflow.log_metric(\"AUC-PR\", auc_precision_recall)\n",
    "        \n",
    "        # Log model\n",
    "        mlflow.sklearn.log_model(logreg, \"model\")"
   ]
  },
  {
   "cell_type": "code",
   "execution_count": 31,
   "metadata": {},
   "outputs": [],
   "source": [
    "mlflow.end_run() ## ending run"
   ]
  },
  {
   "cell_type": "markdown",
   "metadata": {},
   "source": [
    "#### Registering the Best Logistic Regression Model"
   ]
  },
  {
   "cell_type": "markdown",
   "metadata": {},
   "source": [
    "By comparing in the mlflow server we got the best hyperparameter as\n",
    "C =1,penalty ='l2'"
   ]
  },
  {
   "cell_type": "code",
   "execution_count": 18,
   "metadata": {},
   "outputs": [
    {
     "name": "stderr",
     "output_type": "stream",
     "text": [
      "Successfully registered model 'Best_Logistic_Regression_Model'.\n",
      "2024/02/22 23:34:57 INFO mlflow.store.model_registry.abstract_store: Waiting up to 300 seconds for model version to finish creation. Model name: Best_Logistic_Regression_Model, version 1\n",
      "Created version '1' of model 'Best_Logistic_Regression_Model'.\n"
     ]
    }
   ],
   "source": [
    "tracking_url_type_store = urlparse(mlflow.get_tracking_uri()).scheme\n",
    "logreg=LogisticRegression(C=1,penalty='l2').fit(X_train,y_train)\n",
    "\n",
    "# Model registering\n",
    "if tracking_url_type_store != \"file\":\n",
    "    mlflow.sklearn.log_model(logreg, \"model\", registered_model_name=\"Best_Logistic_Regression_Model\")\n",
    "else:\n",
    "    mlflow.sklearn.log_model(logreg, \"model\")"
   ]
  },
  {
   "cell_type": "code",
   "execution_count": 19,
   "metadata": {},
   "outputs": [
    {
     "name": "stdout",
     "output_type": "stream",
     "text": [
      "Best_Logistic_Regression_Model\n"
     ]
    }
   ],
   "source": [
    "# Get list of registered models\n",
    "client = mlflow.tracking.MlflowClient()\n",
    "models = client.search_registered_models()\n",
    "\n",
    "# Print names of registered models\n",
    "for model in models:\n",
    "    print(model.name) ## checking"
   ]
  },
  {
   "cell_type": "markdown",
   "metadata": {},
   "source": [
    "#### Checkout the Benchmark Logistic Regression Model and Printing AUC_PR"
   ]
  },
  {
   "cell_type": "code",
   "execution_count": 20,
   "metadata": {},
   "outputs": [
    {
     "name": "stderr",
     "output_type": "stream",
     "text": [
      "Downloading artifacts: 100%|██████████| 5/5 [00:00<00:00, 59.58it/s]"
     ]
    },
    {
     "name": "stdout",
     "output_type": "stream",
     "text": [
      "BenchMark Logistic regression Model(AUC_PR): 0.9829475110473382\n"
     ]
    },
    {
     "name": "stderr",
     "output_type": "stream",
     "text": [
      "\n"
     ]
    }
   ],
   "source": [
    "# Get the model URI\n",
    "model_uri = \"models:/Best_Logistic_Regression_Model/1\"\n",
    "\n",
    "# Load the scikit-learn model\n",
    "best_logreg_model = mlflow.sklearn.load_model(model_uri=model_uri)\n",
    "\n",
    "y_score = best_logreg_model.predict_proba(X_test)[:, 1]\n",
    "# Calculating precision and recall\n",
    "precision, recall, thresholds = precision_recall_curve(y_true=y_test, probas_pred=y_score)\n",
    "# Calculating AUC-PR\n",
    "auc_pr = auc(recall, precision)\n",
    "print(\"BenchMark Logistic regression Model(AUC_PR):\",auc_pr)"
   ]
  },
  {
   "cell_type": "code",
   "execution_count": 21,
   "metadata": {},
   "outputs": [
    {
     "data": {
      "image/png": "[encoded data removed]",
      "text/plain": [
       "<Figure size 800x600 with 1 Axes>"
      ]
     },
     "metadata": {},
     "output_type": "display_data"
    }
   ],
   "source": [
    "# Plotting the precision-recall curve\n",
    "plt.figure(figsize=(8, 6))\n",
    "plt.plot(recall, precision, label=f'AUC-PR = {auc_pr}')\n",
    "plt.xlabel('Recall')\n",
    "plt.ylabel('Precision')\n",
    "plt.title('Precision-Recall Curve')\n",
    "plt.legend()\n",
    "plt.grid(True)\n",
    "plt.show()"
   ]
  },
  {
   "cell_type": "markdown",
   "metadata": {},
   "source": [
    "### *Scoring and evaluating on the Train set*"
   ]
  },
  {
   "cell_type": "code",
   "execution_count": 22,
   "metadata": {},
   "outputs": [],
   "source": [
    "y_train_pred=best_logreg_model.predict(X_train) ## Predicting the Train set"
   ]
  },
  {
   "cell_type": "code",
   "execution_count": 23,
   "metadata": {},
   "outputs": [
    {
     "name": "stdout",
     "output_type": "stream",
     "text": [
      "              precision    recall  f1-score   support\n",
      "\n",
      "           0       1.00      1.00      1.00      3462\n",
      "           1       1.00      1.00      1.00      3462\n",
      "\n",
      "    accuracy                           1.00      6924\n",
      "   macro avg       1.00      1.00      1.00      6924\n",
      "weighted avg       1.00      1.00      1.00      6924\n",
      "\n"
     ]
    }
   ],
   "source": [
    "from sklearn.metrics import classification_report\n",
    "print(classification_report(y_train,y_train_pred))"
   ]
  },
  {
   "cell_type": "markdown",
   "metadata": {},
   "source": [
    "### *Score on the test set*"
   ]
  },
  {
   "cell_type": "code",
   "execution_count": 24,
   "metadata": {},
   "outputs": [
    {
     "name": "stdout",
     "output_type": "stream",
     "text": [
      "              precision    recall  f1-score   support\n",
      "\n",
      "           0       1.00      0.97      0.98       865\n",
      "           1       0.92      0.99      0.95       274\n",
      "\n",
      "    accuracy                           0.98      1139\n",
      "   macro avg       0.96      0.98      0.97      1139\n",
      "weighted avg       0.98      0.98      0.98      1139\n",
      "\n"
     ]
    }
   ],
   "source": [
    "y_test_pred=best_logreg_model.predict(X_test)\n",
    "print(classification_report(y_test,y_test_pred))"
   ]
  },
  {
   "cell_type": "code",
   "execution_count": 25,
   "metadata": {},
   "outputs": [
    {
     "name": "stdout",
     "output_type": "stream",
     "text": [
      "Confusion Matrix:\n",
      "[[842  23]\n",
      " [  3 271]]\n"
     ]
    }
   ],
   "source": [
    "conf_matrix = confusion_matrix(y_test, y_test_pred)\n",
    "\n",
    "# Print confusion matrix\n",
    "print(\"Confusion Matrix:\")\n",
    "print(conf_matrix)"
   ]
  },
  {
   "cell_type": "markdown",
   "metadata": {},
   "source": [
    "Confusion Matrix: \n",
    "\n",
    "[[true_negatives false_positives]                                                                                     \n",
    " [false_negatives true_positives]]"
   ]
  },
  {
   "cell_type": "markdown",
   "metadata": {},
   "source": [
    "### Model 2: Random Forest"
   ]
  },
  {
   "cell_type": "code",
   "execution_count": 26,
   "metadata": {},
   "outputs": [],
   "source": [
    "from sklearn.ensemble import RandomForestClassifier\n",
    "\n",
    "random_forest_model = RandomForestClassifier() #random_forest_model"
   ]
  },
  {
   "cell_type": "markdown",
   "metadata": {},
   "source": [
    "#### GridSearchCV to find the Best Hyperparameter"
   ]
  },
  {
   "cell_type": "code",
   "execution_count": 27,
   "metadata": {},
   "outputs": [],
   "source": [
    "params = {\n",
    "    'n_estimators':[30,50,100] ,\n",
    "    'max_depth':[3,5,10,20,40,60],\n",
    "}\n",
    "\n",
    "grid = GridSearchCV(\n",
    "    random_forest_model, \n",
    "    params,  \n",
    "    refit=True,  \n",
    "    n_jobs=-1, \n",
    "    scoring='accuracy',  \n",
    "    cv=StratifiedKFold(n_splits=5),  \n",
    ")"
   ]
  },
  {
   "cell_type": "code",
   "execution_count": 28,
   "metadata": {},
   "outputs": [],
   "source": [
    "random_forest_detecter = grid.fit(X_train, y_train)"
   ]
  },
  {
   "cell_type": "markdown",
   "metadata": {},
   "source": [
    "#### Building and Tracking Model\n",
    "**Log all the parameters and metric into MLflow**"
   ]
  },
  {
   "cell_type": "code",
   "execution_count": 29,
   "metadata": {},
   "outputs": [],
   "source": [
    "gscv_mean_acc = random_forest_detecter.cv_results_['mean_test_score']\n",
    "gscv_std_acc = random_forest_detecter.cv_results_['std_test_score']\n",
    "gscv_params = random_forest_detecter.cv_results_['params']"
   ]
  },
  {
   "cell_type": "code",
   "execution_count": 32,
   "metadata": {},
   "outputs": [],
   "source": [
    "\n",
    "for i in range(len(gscv_params)):\n",
    "    run_mean_acc = gscv_mean_acc[i]\n",
    "    run_std_acc = gscv_std_acc[i]\n",
    "    run_params = gscv_params[i]\n",
    "\n",
    "    with mlflow.start_run():\n",
    "        # Extract parameters for the current run\n",
    "        params = {}\n",
    "        for key, value in run_params.items():\n",
    "            if key.startswith(\"classifier__\"):\n",
    "                key = key[len(\"classifier__\"):]\n",
    "            params[key] = value\n",
    "\n",
    "        # Fit RandomForest Classifier model with the current parameters\n",
    "        randomforest = RandomForestClassifier(**params).fit(X_train, y_train)\n",
    "        \n",
    "        # Log parameters\n",
    "        for param, value in params.items():\n",
    "            mlflow.log_param(param, value)\n",
    "            \n",
    "        # Log metrics\n",
    "        mlflow.log_metric(\"Accuracy-Mean\", run_mean_acc)\n",
    "        mlflow.log_metric(\"Accuracy-StD\", run_std_acc)\n",
    "        \n",
    "        # Calculate precision-recall curve metrics\n",
    "        y_score = randomforest.predict_proba(X_test)[:, 1]\n",
    "        precision, recall, thresholds = precision_recall_curve(y_true=y_test,\n",
    "                                                               probas_pred=y_score)\n",
    "        auc_precision_recall = auc(recall, precision)\n",
    "        mlflow.log_metric(\"AUC-PR\", auc_precision_recall)\n",
    "        \n",
    "        # Log model\n",
    "        mlflow.sklearn.log_model(randomforest, \"model\")"
   ]
  },
  {
   "cell_type": "code",
   "execution_count": 47,
   "metadata": {},
   "outputs": [],
   "source": [
    "mlflow.end_run() ## ending the run"
   ]
  },
  {
   "cell_type": "markdown",
   "metadata": {},
   "source": [
    "#### Registering the Best Random forest Classifier Model"
   ]
  },
  {
   "cell_type": "markdown",
   "metadata": {},
   "source": [
    "By comparing in the mlflow server we got the best hyperparameter as\n",
    "max_depth=60,n_estimators=100"
   ]
  },
  {
   "cell_type": "code",
   "execution_count": 34,
   "metadata": {},
   "outputs": [
    {
     "name": "stderr",
     "output_type": "stream",
     "text": [
      "Successfully registered model 'Best_Random_Forest_Model'.\n",
      "2024/02/22 23:39:16 INFO mlflow.store.model_registry.abstract_store: Waiting up to 300 seconds for model version to finish creation. Model name: Best_Random_Forest_Model, version 1\n",
      "Created version '1' of model 'Best_Random_Forest_Model'.\n"
     ]
    }
   ],
   "source": [
    "tracking_url_type_store = urlparse(mlflow.get_tracking_uri()).scheme\n",
    "randomforest=RandomForestClassifier(max_depth=60,n_estimators=100).fit(X_train, y_train)\n",
    "\n",
    "# Model registering\n",
    "if tracking_url_type_store != \"file\":\n",
    "    mlflow.sklearn.log_model(randomforest, \"model\", registered_model_name=\"Best_Random_Forest_Model\")\n",
    "else:\n",
    "    mlflow.sklearn.log_model(randomforest, \"model\")"
   ]
  },
  {
   "cell_type": "code",
   "execution_count": 35,
   "metadata": {},
   "outputs": [
    {
     "name": "stdout",
     "output_type": "stream",
     "text": [
      "Best_Logistic_Regression_Model\n",
      "Best_Random_Forest_Model\n"
     ]
    }
   ],
   "source": [
    "# Get list of registered models\n",
    "client = mlflow.tracking.MlflowClient()\n",
    "models = client.search_registered_models()\n",
    "\n",
    "# Print names of registered models\n",
    "for model in models:\n",
    "    print(model.name)"
   ]
  },
  {
   "cell_type": "markdown",
   "metadata": {},
   "source": [
    "#### Checkout the Benchmark RandomForest Classifier Model and Printing AUC_PR"
   ]
  },
  {
   "cell_type": "code",
   "execution_count": 36,
   "metadata": {},
   "outputs": [
    {
     "name": "stderr",
     "output_type": "stream",
     "text": [
      "Downloading artifacts:  40%|████      | 2/5 [00:00<00:00, 36.23it/s]"
     ]
    },
    {
     "name": "stderr",
     "output_type": "stream",
     "text": [
      "Downloading artifacts: 100%|██████████| 5/5 [00:00<00:00, 22.54it/s]\n"
     ]
    },
    {
     "name": "stdout",
     "output_type": "stream",
     "text": [
      "BenchMark Random forest Classifier Model(AUC_PR): 0.9861504113992015\n"
     ]
    }
   ],
   "source": [
    "# Get the model URI\n",
    "model_uri = \"models:/Best_Random_Forest_Model/1\"\n",
    "\n",
    "# Load the scikit-learn model\n",
    "best_randomforest_model = mlflow.sklearn.load_model(model_uri=model_uri)\n",
    "\n",
    "# Assuming X_test is your test data\n",
    "#best_logreg_model.fit(X_train,y_train)\n",
    "y_score = best_randomforest_model.predict_proba(X_test)[:, 1]\n",
    "# Calculating precision and recall\n",
    "precision, recall, thresholds = precision_recall_curve(y_true=y_test, probas_pred=y_score)\n",
    "# Calculating AUC-PR\n",
    "auc_pr = auc(recall, precision)\n",
    "print(\"BenchMark Random forest Classifier Model(AUC_PR):\",auc_pr)"
   ]
  },
  {
   "cell_type": "code",
   "execution_count": 37,
   "metadata": {},
   "outputs": [
    {
     "data": {
      "image/png": "[encoded data removed]",
      "text/plain": [
       "<Figure size 800x600 with 1 Axes>"
      ]
     },
     "metadata": {},
     "output_type": "display_data"
    }
   ],
   "source": [
    "# Plotting the precision-recall curve\n",
    "plt.figure(figsize=(8, 6))\n",
    "plt.plot(recall, precision, label=f'AUC-PR = {auc_pr}')\n",
    "plt.xlabel('Recall')\n",
    "plt.ylabel('Precision')\n",
    "plt.title('Precision-Recall Curve')\n",
    "plt.legend()\n",
    "plt.grid(True)\n",
    "plt.show()"
   ]
  },
  {
   "cell_type": "markdown",
   "metadata": {},
   "source": [
    "### *Scoring and evaluating on the Train set*"
   ]
  },
  {
   "cell_type": "code",
   "execution_count": 38,
   "metadata": {},
   "outputs": [],
   "source": [
    "y_train_pred=best_randomforest_model.predict(X_train) ## Predicting the Train set"
   ]
  },
  {
   "cell_type": "code",
   "execution_count": 39,
   "metadata": {},
   "outputs": [
    {
     "name": "stdout",
     "output_type": "stream",
     "text": [
      "              precision    recall  f1-score   support\n",
      "\n",
      "           0       1.00      0.99      0.99      3462\n",
      "           1       0.99      1.00      0.99      3462\n",
      "\n",
      "    accuracy                           0.99      6924\n",
      "   macro avg       0.99      0.99      0.99      6924\n",
      "weighted avg       0.99      0.99      0.99      6924\n",
      "\n"
     ]
    }
   ],
   "source": [
    "\n",
    "print(classification_report(y_train,y_train_pred))"
   ]
  },
  {
   "cell_type": "markdown",
   "metadata": {},
   "source": [
    "### *Score on the test set*"
   ]
  },
  {
   "cell_type": "code",
   "execution_count": 40,
   "metadata": {},
   "outputs": [
    {
     "name": "stdout",
     "output_type": "stream",
     "text": [
      "              precision    recall  f1-score   support\n",
      "\n",
      "           0       0.99      0.98      0.98       865\n",
      "           1       0.93      0.96      0.94       274\n",
      "\n",
      "    accuracy                           0.97      1139\n",
      "   macro avg       0.96      0.97      0.96      1139\n",
      "weighted avg       0.97      0.97      0.97      1139\n",
      "\n"
     ]
    }
   ],
   "source": [
    "y_test_pred=best_randomforest_model.predict(X_test)\n",
    "print(classification_report(y_test,y_test_pred))"
   ]
  },
  {
   "cell_type": "code",
   "execution_count": 41,
   "metadata": {},
   "outputs": [
    {
     "name": "stdout",
     "output_type": "stream",
     "text": [
      "Confusion Matrix:\n",
      "[[844  21]\n",
      " [ 11 263]]\n"
     ]
    }
   ],
   "source": [
    "conf_matrix = confusion_matrix(y_test, y_test_pred)\n",
    "\n",
    "# Print confusion matrix\n",
    "print(\"Confusion Matrix:\")\n",
    "print(conf_matrix)"
   ]
  },
  {
   "cell_type": "markdown",
   "metadata": {},
   "source": [
    "### Model 3: SVC"
   ]
  },
  {
   "cell_type": "code",
   "execution_count": 42,
   "metadata": {},
   "outputs": [],
   "source": [
    "from sklearn.svm import SVC\n",
    "svc_model = SVC() #svc_model"
   ]
  },
  {
   "cell_type": "markdown",
   "metadata": {},
   "source": [
    "#### GridSearchCV to find the Best Hyperparameter"
   ]
  },
  {
   "cell_type": "code",
   "execution_count": 43,
   "metadata": {},
   "outputs": [],
   "source": [
    "params = {'C': [1, 10, 100, 1000],\n",
    "   'gamma': [0.001, 0.0001],\n",
    "   'kernel': ['rbf']\n",
    "   }\n",
    "\n",
    "\n",
    "grid = GridSearchCV(\n",
    "    svc_model, \n",
    "    params,  \n",
    "    refit=True,  \n",
    "    n_jobs=-1, \n",
    "    scoring='accuracy',  \n",
    "    cv=StratifiedKFold(n_splits=5),  \n",
    ")"
   ]
  },
  {
   "cell_type": "code",
   "execution_count": 44,
   "metadata": {},
   "outputs": [],
   "source": [
    "svc_detecter = grid.fit(X_train, y_train)"
   ]
  },
  {
   "cell_type": "markdown",
   "metadata": {},
   "source": [
    "#### Building and Tracking Model\n",
    "**Log all the parameters and metric into MLflow**"
   ]
  },
  {
   "cell_type": "code",
   "execution_count": 45,
   "metadata": {},
   "outputs": [],
   "source": [
    "gscv_mean_acc = svc_detecter.cv_results_['mean_test_score']\n",
    "gscv_std_acc = svc_detecter.cv_results_['std_test_score']\n",
    "gscv_params = svc_detecter.cv_results_['params']"
   ]
  },
  {
   "cell_type": "code",
   "execution_count": 48,
   "metadata": {},
   "outputs": [],
   "source": [
    "\n",
    "for i in range(len(gscv_params)):\n",
    "    run_mean_acc = gscv_mean_acc[i]\n",
    "    run_std_acc = gscv_std_acc[i]\n",
    "    run_params = gscv_params[i]\n",
    "\n",
    "    with mlflow.start_run():\n",
    "        # Extract parameters for the current run\n",
    "        params = {}\n",
    "        for key, value in run_params.items():\n",
    "            if key.startswith(\"classifier__\"):\n",
    "                key = key[len(\"classifier__\"):]\n",
    "            params[key] = value\n",
    "\n",
    "        # Fit SVC model with the current parameters\n",
    "        svc = SVC(probability=True,**params).fit(X_train, y_train)\n",
    "        \n",
    "        # Log parameters\n",
    "        for param, value in params.items():\n",
    "            mlflow.log_param(param, value)\n",
    "            \n",
    "        # Log metrics\n",
    "        mlflow.log_metric(\"Accuracy-Mean\", run_mean_acc)\n",
    "        mlflow.log_metric(\"Accuracy-StD\", run_std_acc)\n",
    "        \n",
    "        # Calculate precision-recall curve metrics\n",
    "        y_score = svc.predict_proba(X_test)[:, 1]\n",
    "        precision, recall, thresholds = precision_recall_curve(y_true=y_test,\n",
    "                                                               probas_pred=y_score)\n",
    "        auc_precision_recall = auc(recall, precision)\n",
    "        mlflow.log_metric(\"AUC-PR\", auc_precision_recall)\n",
    "        \n",
    "        # Log model\n",
    "        mlflow.sklearn.log_model(svc, \"model\")"
   ]
  },
  {
   "cell_type": "code",
   "execution_count": 49,
   "metadata": {},
   "outputs": [],
   "source": [
    "mlflow.end_run()"
   ]
  },
  {
   "cell_type": "markdown",
   "metadata": {},
   "source": [
    "#### Registering the Best SVC Model"
   ]
  },
  {
   "cell_type": "markdown",
   "metadata": {},
   "source": [
    "After comapring the Mlflow server we get the best hyper-parameter as C=1, gamma= 0.001, kernel= 'rbf'"
   ]
  },
  {
   "cell_type": "code",
   "execution_count": 50,
   "metadata": {},
   "outputs": [
    {
     "name": "stderr",
     "output_type": "stream",
     "text": [
      "Successfully registered model 'Best_SVC_Model'.\n",
      "2024/02/22 23:43:56 INFO mlflow.store.model_registry.abstract_store: Waiting up to 300 seconds for model version to finish creation. Model name: Best_SVC_Model, version 1\n",
      "Created version '1' of model 'Best_SVC_Model'.\n"
     ]
    }
   ],
   "source": [
    "tracking_url_type_store = urlparse(mlflow.get_tracking_uri()).scheme\n",
    "svc_model=SVC(probability=True,C=1, gamma= 0.001, kernel= 'rbf').fit(X_train, y_train)\n",
    "\n",
    "# Model registering\n",
    "if tracking_url_type_store != \"file\":\n",
    "    mlflow.sklearn.log_model(svc_model, \"model\", registered_model_name=\"Best_SVC_Model\")\n",
    "else:\n",
    "    mlflow.sklearn.log_model(svc_model, \"model\")"
   ]
  },
  {
   "cell_type": "code",
   "execution_count": 51,
   "metadata": {},
   "outputs": [
    {
     "name": "stdout",
     "output_type": "stream",
     "text": [
      "Best_Logistic_Regression_Model\n",
      "Best_Random_Forest_Model\n",
      "Best_SVC_Model\n"
     ]
    }
   ],
   "source": [
    "# Get list of registered models\n",
    "client = mlflow.tracking.MlflowClient()\n",
    "models = client.search_registered_models()\n",
    "\n",
    "# Print names of registered models\n",
    "for model in models:\n",
    "    print(model.name)"
   ]
  },
  {
   "cell_type": "markdown",
   "metadata": {},
   "source": [
    "#### Checkout the Benchmark RandomForest Classifier Model and Printing AUC_PR"
   ]
  },
  {
   "cell_type": "code",
   "execution_count": 52,
   "metadata": {},
   "outputs": [
    {
     "name": "stderr",
     "output_type": "stream",
     "text": [
      "Downloading artifacts:  60%|██████    | 3/5 [00:00<00:00, 72.67it/s]"
     ]
    },
    {
     "name": "stderr",
     "output_type": "stream",
     "text": [
      "Downloading artifacts: 100%|██████████| 5/5 [00:00<00:00, 33.78it/s]\n"
     ]
    },
    {
     "name": "stdout",
     "output_type": "stream",
     "text": [
      "0.9835261903651563\n"
     ]
    }
   ],
   "source": [
    "# Get the model URI\n",
    "model_uri = \"models:/Best_SVC_Model/1\"\n",
    "\n",
    "# Load the scikit-learn model\n",
    "best_svc_model = mlflow.sklearn.load_model(model_uri=model_uri)\n",
    "\n",
    "y_score = best_svc_model.predict_proba(X_test)[:, 1]\n",
    "# Calculating precision and recall\n",
    "precision, recall, thresholds = precision_recall_curve(y_true=y_test, probas_pred=y_score)\n",
    "# Calculating AUC-PR\n",
    "auc_pr = auc(recall, precision)\n",
    "print(auc_pr)"
   ]
  },
  {
   "cell_type": "code",
   "execution_count": 53,
   "metadata": {},
   "outputs": [
    {
     "data": {
      "image/png": "[encoded data removed]",
      "text/plain": [
       "<Figure size 800x600 with 1 Axes>"
      ]
     },
     "metadata": {},
     "output_type": "display_data"
    }
   ],
   "source": [
    "# Plotting the precision-recall curve\n",
    "plt.figure(figsize=(8, 6))\n",
    "plt.plot(recall, precision, label=f'AUC-PR = {auc_pr}')\n",
    "plt.xlabel('Recall')\n",
    "plt.ylabel('Precision')\n",
    "plt.title('Precision-Recall Curve')\n",
    "plt.legend()\n",
    "plt.grid(True)\n",
    "plt.show()"
   ]
  },
  {
   "cell_type": "markdown",
   "metadata": {},
   "source": [
    "### *Scoring and evaluating on the Train set*"
   ]
  },
  {
   "cell_type": "code",
   "execution_count": 54,
   "metadata": {},
   "outputs": [],
   "source": [
    "y_train_pred=best_svc_model.predict(X_train) ## Predicting the Train set"
   ]
  },
  {
   "cell_type": "code",
   "execution_count": 55,
   "metadata": {},
   "outputs": [
    {
     "name": "stdout",
     "output_type": "stream",
     "text": [
      "              precision    recall  f1-score   support\n",
      "\n",
      "           0       1.00      0.93      0.96      3462\n",
      "           1       0.94      1.00      0.97      3462\n",
      "\n",
      "    accuracy                           0.97      6924\n",
      "   macro avg       0.97      0.97      0.97      6924\n",
      "weighted avg       0.97      0.97      0.97      6924\n",
      "\n"
     ]
    }
   ],
   "source": [
    "print(classification_report(y_train,y_train_pred))"
   ]
  },
  {
   "cell_type": "markdown",
   "metadata": {},
   "source": [
    "### *Score on the test set*"
   ]
  },
  {
   "cell_type": "code",
   "execution_count": 56,
   "metadata": {},
   "outputs": [
    {
     "name": "stdout",
     "output_type": "stream",
     "text": [
      "              precision    recall  f1-score   support\n",
      "\n",
      "           0       0.99      0.93      0.96       865\n",
      "           1       0.81      0.97      0.88       274\n",
      "\n",
      "    accuracy                           0.94      1139\n",
      "   macro avg       0.90      0.95      0.92      1139\n",
      "weighted avg       0.95      0.94      0.94      1139\n",
      "\n"
     ]
    }
   ],
   "source": [
    "y_test_pred=best_svc_model.predict(X_test)\n",
    "print(classification_report(y_test,y_test_pred))"
   ]
  },
  {
   "cell_type": "code",
   "execution_count": 57,
   "metadata": {},
   "outputs": [
    {
     "name": "stdout",
     "output_type": "stream",
     "text": [
      "Confusion Matrix:\n",
      "[[801  64]\n",
      " [  8 266]]\n"
     ]
    }
   ],
   "source": [
    "conf_matrix = confusion_matrix(y_test, y_test_pred)\n",
    "\n",
    "# Print confusion matrix\n",
    "print(\"Confusion Matrix:\")\n",
    "print(conf_matrix)"
   ]
  },
  {
   "cell_type": "markdown",
   "metadata": {},
   "source": [
    "## Conclusion\n",
    "\n",
    "**Hence, we can observe that we are getting highest accuracy as 98% and largest area under Precision_Recall Curve for the Random Forest classifier Model. So we can choose  Random Forest classifier as our best model.**\n"
   ]
  },
  {
   "cell_type": "code",
   "execution_count": 58,
   "metadata": {},
   "outputs": [
    {
     "data": {
      "text/plain": [
       "['best_model.joblib']"
      ]
     },
     "execution_count": 58,
     "metadata": {},
     "output_type": "execute_result"
    }
   ],
   "source": [
    "import joblib\n",
    "best_model = best_randomforest_model\n",
    "filename = \"best_model.joblib\"\n",
    "joblib.dump(best_model, filename)"
   ]
  },
  {
   "cell_type": "code",
   "execution_count": null,
   "metadata": {},
   "outputs": [],
   "source": []
  }
 ],
 "metadata": {
  "kernelspec": {
   "display_name": "base",
   "language": "python",
   "name": "python3"
  },
  "language_info": {
   "codemirror_mode": {
    "name": "ipython",
    "version": 3
   },
   "file_extension": ".py",
   "mimetype": "text/x-python",
   "name": "python",
   "nbconvert_exporter": "python",
   "pygments_lexer": "ipython3",
   "version": "3.10.9"
  }
 },
 "nbformat": 4,
 "nbformat_minor": 2
}
